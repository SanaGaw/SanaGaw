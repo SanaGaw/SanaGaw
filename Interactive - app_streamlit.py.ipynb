{
 "cells": [
  {
   "cell_type": "markdown",
   "metadata": {},
   "source": [
    "Connected to Python 3.12.5"
   ]
  },
  {
   "cell_type": "code",
   "execution_count": null,
   "id": "6dc50e1e-b204-4a2b-940f-6e8a0914d287",
   "metadata": {},
   "outputs": [
    {
     "ename": "ModuleNotFoundError",
     "evalue": "No module named 'simulation'",
     "output_type": "error",
     "traceback": [
      "\u001b[1;31m---------------------------------------------------------------------------\u001b[0m",
      "\u001b[1;31mModuleNotFoundError\u001b[0m                       Traceback (most recent call last)",
      "File \u001b[1;32mSanaGaw\\SanaGaw\\app_streamlit.py:8\u001b[0m\n\u001b[0;32m      5\u001b[0m \u001b[39mimport\u001b[39;00m \u001b[39mpandas\u001b[39;00m \u001b[39mas\u001b[39;00m \u001b[39mpd\u001b[39;00m\n\u001b[0;32m      7\u001b[0m \u001b[39m# Import the ABM logic\u001b[39;00m\n\u001b[1;32m----> 8\u001b[0m \u001b[39mfrom\u001b[39;00m \u001b[39msimulation\u001b[39;00m \u001b[39mimport\u001b[39;00m run_simulation\n\u001b[0;32m     10\u001b[0m \u001b[39mdef\u001b[39;00m \u001b[39mmain\u001b[39m():\n\u001b[0;32m     11\u001b[0m     st\u001b[39m.\u001b[39mtitle(\u001b[39m\"\u001b[39m\u001b[39mCorruption Simulation (Streamlit GUI)\u001b[39m\u001b[39m\"\u001b[39m)\n",
      "\u001b[1;31mModuleNotFoundError\u001b[0m: No module named 'simulation'"
     ]
    }
   ],
   "source": [
    "#######################################\n",
    "# app_streamlit.py\n",
    "#######################################\n",
    "import streamlit as st\n",
    "import pandas as pd\n",
    "\n",
    "# Import the ABM logic\n",
    "from simulation import run_simulation\n",
    "\n",
    "def main():\n",
    "    st.title(\"Corruption Simulation (Streamlit GUI)\")\n",
    "    st.write(\"Adjust parameters below and click **Run Simulation**.\")\n",
    "\n",
    "    # Layout: Two columns for user inputs side by side\n",
    "    col1, col2 = st.columns(2)\n",
    "\n",
    "    # Left column inputs\n",
    "    with col1:\n",
    "        num_citizens = st.slider(\"Number of Citizens\", min_value=10, max_value=1000, value=100, step=10)\n",
    "        num_bureaucrats = st.slider(\"Number of Bureaucrats\", min_value=5, max_value=200, value=20, step=5)\n",
    "        rounds = st.slider(\"Number of Rounds\", min_value=1, max_value=50, value=7, step=1)\n",
    "        salary = st.slider(\"Salary\", min_value=1, max_value=50, value=5, step=1)\n",
    "        bribe_amount = st.slider(\"Bribe Amount\", min_value=1, max_value=50, value=1, step=1)\n",
    "\n",
    "    # Right column inputs\n",
    "    with col2:\n",
    "        investigation_rate = st.slider(\"Investigation Rate (# Bureaucrats Investigated)\", \n",
    "                                       min_value=1, max_value=100, value=20, step=1)\n",
    "        investigation_cost = st.slider(\"Investigation Cost\", min_value=1, max_value=20, value=3, step=1)\n",
    "        init_corr_cit = st.slider(\"Initial Corruption (Citizens)\", 0.0, 1.0, 0.4, 0.05)\n",
    "        init_corr_bur = st.slider(\"Initial Corruption (Bureaucrats)\", 0.0, 1.0, 0.4, 0.05)\n",
    "        initial_budget = st.number_input(\"Initial Budget\", min_value=100, max_value=100000, value=1000, step=100)\n",
    "\n",
    "    # Button to run\n",
    "    if st.button(\"Run Simulation\"):\n",
    "        # Build the params dict\n",
    "        params = {\n",
    "            'num_citizens': num_citizens,\n",
    "            'num_bureaucrats': num_bureaucrats,\n",
    "            'rounds': rounds,\n",
    "            'salary': salary,\n",
    "            'bribe_amount': bribe_amount,\n",
    "            'investigation_rate': investigation_rate,\n",
    "            'investigation_cost': investigation_cost,\n",
    "            'initial_corruption_citizens': init_corr_cit,\n",
    "            'initial_corruption_bureaucrats': init_corr_bur,\n",
    "            'initial_budget': initial_budget\n",
    "        }\n",
    "\n",
    "        # Run the ABM\n",
    "        logs = run_simulation(params)  \n",
    "        # logs is expected to be a list of dicts, e.g.:\n",
    "        # [\n",
    "        #   {'round':1, 'institution_budget':..., 'corruption_level':..., ...},\n",
    "        #   {'round':2, 'institution_budget':..., 'corruption_level':..., ...},\n",
    "        #   ...\n",
    "        # ]\n",
    "\n",
    "        st.subheader(\"Simulation Results\")\n",
    "\n",
    "        # Convert logs to a DataFrame for easy display\n",
    "        df_logs = pd.DataFrame(logs)\n",
    "\n",
    "        # Show as a table\n",
    "        st.dataframe(df_logs)\n",
    "\n",
    "        # If we have a 'corruption_level' column, let's plot it\n",
    "        if 'corruption_level' in df_logs.columns:\n",
    "            st.line_chart(df_logs['corruption_level'])\n",
    "\n",
    "        # Similarly, you can line-chart other columns (like budget)\n",
    "        # st.line_chart(df_logs['institution_budget'])\n",
    "\n",
    "        st.success(\"Simulation complete!\")\n",
    "\n",
    "if __name__ == \"__main__\":\n",
    "    main()"
   ]
  }
 ],
 "metadata": {
  "kernelspec": {
   "display_name": "Python 3",
   "language": "python",
   "name": "python3"
  },
  "language_info": {
   "name": "python",
   "version": "3.12.5"
  }
 },
 "nbformat": 4,
 "nbformat_minor": 2
}
